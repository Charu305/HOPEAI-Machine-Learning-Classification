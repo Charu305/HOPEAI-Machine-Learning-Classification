{
 "cells": [
  {
   "cell_type": "code",
   "execution_count": 1,
   "id": "3b4d40a7-7908-46cf-99bc-c4498af3bac4",
   "metadata": {},
   "outputs": [],
   "source": [
    "import pickle"
   ]
  },
  {
   "cell_type": "code",
   "execution_count": 3,
   "id": "83ecadc2-54f5-4688-9897-e555dfbacc34",
   "metadata": {},
   "outputs": [],
   "source": [
    "Scx=pickle.load(open('scaler.sav','rb'))"
   ]
  },
  {
   "cell_type": "code",
   "execution_count": 5,
   "id": "46d8e4d6-3e64-4c18-8289-6f37bea4986b",
   "metadata": {},
   "outputs": [
    {
     "name": "stderr",
     "output_type": "stream",
     "text": [
      "C:\\Users\\babuk\\anaconda3\\Lib\\site-packages\\sklearn\\utils\\validation.py:2749: UserWarning: X does not have valid feature names, but StandardScaler was fitted with feature names\n",
      "  warnings.warn(\n"
     ]
    }
   ],
   "source": [
    "preinupt = Scx.transform ([[25,45700,1]])"
   ]
  },
  {
   "cell_type": "code",
   "execution_count": 7,
   "id": "9f507889-055e-42f9-b977-0ece876c3ae0",
   "metadata": {},
   "outputs": [],
   "source": [
    "loaded_model=pickle.load(open('finalized_RF_Grid.sav','rb'))"
   ]
  },
  {
   "cell_type": "code",
   "execution_count": 9,
   "id": "59d63ba0-f7c7-4c19-a3e0-4af264054a4e",
   "metadata": {},
   "outputs": [],
   "source": [
    "result = loaded_model.predict(preinupt)"
   ]
  },
  {
   "cell_type": "code",
   "execution_count": 11,
   "id": "61766a9f-bd05-47fe-af65-e3465ff1621e",
   "metadata": {},
   "outputs": [
    {
     "data": {
      "text/plain": [
       "array([0], dtype=int64)"
      ]
     },
     "execution_count": 11,
     "metadata": {},
     "output_type": "execute_result"
    }
   ],
   "source": [
    "result"
   ]
  },
  {
   "cell_type": "code",
   "execution_count": null,
   "id": "8d8c5bdb-e353-4d00-805a-eda8c96ab7c1",
   "metadata": {},
   "outputs": [],
   "source": []
  }
 ],
 "metadata": {
  "kernelspec": {
   "display_name": "Python 3 (ipykernel)",
   "language": "python",
   "name": "python3"
  },
  "language_info": {
   "codemirror_mode": {
    "name": "ipython",
    "version": 3
   },
   "file_extension": ".py",
   "mimetype": "text/x-python",
   "name": "python",
   "nbconvert_exporter": "python",
   "pygments_lexer": "ipython3",
   "version": "3.12.4"
  }
 },
 "nbformat": 4,
 "nbformat_minor": 5
}
